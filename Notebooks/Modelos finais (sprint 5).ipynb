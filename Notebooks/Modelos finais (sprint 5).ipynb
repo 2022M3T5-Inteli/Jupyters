{
  "nbformat": 4,
  "nbformat_minor": 0,
  "metadata": {
    "colab": {
      "provenance": []
    },
    "kernelspec": {
      "name": "python3",
      "display_name": "Python 3"
    },
    "language_info": {
      "name": "python"
    }
  },
  "cells": [
    {
      "cell_type": "markdown",
      "source": [
        "# Modelos finais\n",
        "\n",
        "Este Colab agrega os modelos finais com suas respectivas mini interfaces gráficas para predição. Os modelos em questão são:\n",
        "\n",
        "1. **RAT | Total Domicílios:** Árvore decisória com profundidade máxima de 28 e R² de 94%. As features são dia do mês, dia da semana, mês, hora, minuto e categoria. Uma pseudofeature é a duração, pois, apesar de não entrar no modelo em si, ela é utilizada em um loop que prediz a audiência para cada horário nessa faixa, tirando a média logo depois. A saída é 'Rat | Total Domícilios'.\n",
        "\n",
        "2. **RAT | Todos demográficos:** Árvore decisória com profundidade máxima de 28 e R² de 90%. As features são dia do mês, dia da semana, mês, hora, minuto e categoria. Uma pseudofeature é a duração, pois, apesar de não entrar no modelo em si, ela é utilizada em um loop que prediz a audiência para cada horário nessa faixa, tirando a média logo depois. As saídas são 'AB | Rat%', 'C1 | Rat%', 'C2 | Rat%', 'DE | Rat%', 'Masculino | Rat%', 'Feminino | Rat%', '4-11 anos | Rat%', '12-17 anos | Rat%', '18-24 anos | Rat%', '25-34 anos | Rat%', '35-49 anos | Rat%', '50-59 anos | Rat%', '60+ anos | Rat%'.\n",
        "\n",
        "3. **SHR | Todos demográficos:** Árvore decisória com profundidade máxima de 28 e R² de 86%. As features são dia do mês, dia da semana, mês, hora, minuto e categoria. Uma pseudofeature é a duração, pois, apesar de não entrar no modelo em si, ela é utilizada em um loop que prediz a audiência para cada horário nessa faixa, tirando a média logo depois. As saídas são 'Total Domicílios | Shr%', 'AB | Shr%', 'C1 | Shr%', 'C2 | Shr%', 'DE | Shr%', 'Masculino | Shr%', 'Feminino | Shr%', '4-11 anos | Shr%', '12-17 anos | Shr%', '18-24 anos | Shr%', '25-34 anos | Shr%', '35-49 anos | Shr%', '50-59 anos | Shr%', '60+ anos | Shr%'.\n",
        "\n",
        "\n",
        "3. **RCH | Todos demográficos:** Árvore decisória com profundidade máxima de 28 e R² de 89%. As features são dia do mês, dia da semana, mês, hora, minuto e categoria. Uma pseudofeature é a duração, pois, apesar de não entrar no modelo em si, ela é utilizada em um loop que prediz a audiência para cada horário nessa faixa, tirando a média logo depois. As saídas são 'Total Indivíduos | Rch%', 'AB | Rch%', 'C1 | Rch%', 'C2 | Rch%', 'DE | Rch%', 'Masculino | Rch%', 'Feminino | Rch%', '4-11 anos | Rch%', '12-17 anos | Rch%', '18-24 anos | Rch%', '25-34 anos | Rch%', '35-49 anos | Rch%', '50-59 anos | Rch%', '60+ anos | Rch%'.\n",
        "\n",
        "Todos esses serão baixados no Colab através do comando \"!gdown\", que fará uma requisição pelos arquivos dos modelos em txt no Drive do grupo.\n"
      ],
      "metadata": {
        "id": "bH91P-KNyiP-"
      }
    },
    {
      "cell_type": "code",
      "execution_count": 55,
      "metadata": {
        "colab": {
          "base_uri": "https://localhost:8080/"
        },
        "id": "tTwQngecyXR1",
        "outputId": "3567a113-c800-47fc-83f3-f86bfd53cfb8"
      },
      "outputs": [
        {
          "output_type": "stream",
          "name": "stdout",
          "text": [
            "Downloading...\n",
            "From: https://drive.google.com/uc?id=1UaEQPGG6PtoEJucjOWwmmTz0Hk7bwc34\n",
            "To: /content/main_rat.txt\n",
            "100% 9.87M/9.87M [00:00<00:00, 210MB/s]\n",
            "Downloading...\n",
            "From: https://drive.google.com/uc?id=1ypyxcWM1bKfGHDBEFRPerT1gn7KacU-K\n",
            "To: /content/all_rat.txt\n",
            "100% 40.2M/40.2M [00:00<00:00, 121MB/s]\n",
            "Downloading...\n",
            "From: https://drive.google.com/uc?id=1oQvJvtVW5czAR2le4SV0f6nfnJBDIx57\n",
            "To: /content/shr.txt\n",
            "100% 49.5M/49.5M [00:00<00:00, 229MB/s]\n",
            "Downloading...\n",
            "From: https://drive.google.com/uc?id=1s5ry0oC5AAjQXTl4nfnSy5aP7o_PWGnp\n",
            "To: /content/rch.txt\n",
            "100% 46.7M/46.7M [00:00<00:00, 139MB/s]\n"
          ]
        }
      ],
      "source": [
        "import pickle\n",
        "\n",
        "!gdown '1UaEQPGG6PtoEJucjOWwmmTz0Hk7bwc34'\n",
        "!gdown '1ypyxcWM1bKfGHDBEFRPerT1gn7KacU-K'\n",
        "!gdown '1oQvJvtVW5czAR2le4SV0f6nfnJBDIx57'\n",
        "!gdown '1s5ry0oC5AAjQXTl4nfnSy5aP7o_PWGnp'\n",
        "\n",
        "rat_total = pickle.load(open('main_rat.txt', 'rb'))\n",
        "rat_demograficos = pickle.load(open('all_rat.txt', 'rb'))\n",
        "shr = pickle.load(open('shr.txt', 'rb'))\n",
        "rch = pickle.load(open('rch.txt', 'rb'))"
      ]
    },
    {
      "cell_type": "code",
      "source": [
        "#@title Entradas\n",
        "\n",
        "# Esta célula de código recebe as entradas através de um forms do colab\n",
        "# As categorias e dia da semana são obtidos através de dropdowns\n",
        "# O feriado é um checkbox booleano\n",
        "# O minuto e a duração (em minutos) devem ser escritos \n",
        "# em múltiplos de 5\n",
        "\n",
        "categoria = 'Categoria_AUDITORIO' #@param ['Categoria_AUDITORIO', 'Categoria_CARROS E MOTORES', 'Categoria_CULINARIO', 'Categoria_DEBATE', 'Categoria_DOCUMENTARIO', 'Categoria_EDUCATIVO', 'Categoria_ENTREVISTA', 'Categoria_ESPORTE', 'Categoria_FEMININO', 'Categoria_FILME', 'Categoria_FUTEBOL', 'Categoria_GAME SHOW', 'Categoria_HUMORISTICO', 'Categoria_JORNALISMO', 'Categoria_MINISSERIE', 'Categoria_MUSICAL', 'Categoria_NOVELA', 'Categoria_POLITICO', 'Categoria_PREMIACAO', 'Categoria_REALITY SHOW', 'Categoria_RELIGIOSO', 'Categoria_REPORTAGEM', 'Categoria_RURAL', 'Categoria_SERIES', 'Categoria_SHOW']\n",
        "dia_semana = 'Segunda' #@param [\"Segunda\", \"Terça\", \"Quarta\", \"Quinta\", \"Sexta\", \"Sábado\", \"Domingo\"]\n",
        "\n",
        "dia_mes = 1 #@param {type:\"number\"}\n",
        "mes = 1 #@param {type:\"number\"}\n",
        "hora = 20 #@param {type:\"number\"}\n",
        "minuto = 0 #@param {type:\"number\"}\n",
        "duracao = 50 #@param {type:\"number\"}\n",
        "feriado = False #@param {type:\"boolean\"}\n"
      ],
      "metadata": {
        "id": "N9fzpCoL254q"
      },
      "execution_count": 56,
      "outputs": []
    },
    {
      "cell_type": "markdown",
      "source": [
        "Então, com esses dados, transformamos as variáveis para o formato de array necessário para a predição."
      ],
      "metadata": {
        "id": "iqEV2DeRCW6i"
      }
    },
    {
      "cell_type": "code",
      "source": [
        "# Troca o dia da semana (string) pelo número correspondente do label encoding\n",
        "encoding_semana = {'Segunda': 1, 'Terça': 2, 'Quarta': 3, 'Quinta': 4, 'Sexta': 5, \n",
        "                 'Sábado': 6, 'Domingo': 7}\n",
        "dia_semana = encoding_semana[dia_semana] \n",
        "\n",
        "# Cria um dicionário de entradas para melhor organização e manipulação\n",
        "dados = {\n",
        "        \"Dia da Semana\": dia_semana,\n",
        "        \"Mês\": mes,\n",
        "        \"Dia\": dia_mes,\n",
        "        \"Hora\": hora,\n",
        "        \"Minuto\": minuto,\n",
        "        \"Feriado\": feriado,\n",
        "        \"Categoria_AUDITORIO\": 0,\n",
        "        \"Categoria_CARROS E MOTORES\": 0,\n",
        "        \"Categoria_CULINARIO\": 0,\n",
        "        \"Categoria_DEBATE\": 0,\n",
        "        \"Categoria_DOCUMENTARIO\": 0,\n",
        "        \"Categoria_EDUCATIVO\": 0,\n",
        "        \"Categoria_ENTREVISTA\": 0,\n",
        "        \"Categoria_ESPORTE\": 0,\n",
        "        \"Categoria_FEMININO\": 0,\n",
        "        \"Categoria_FILME\": 0,\n",
        "        \"Categoria_FUTEBOL\": 0,\n",
        "        \"Categoria_GAME SHOW\": 0,\n",
        "        \"Categoria_HUMORISTICO\": 0,\n",
        "        \"Categoria_JORNALISMO\": 0,\n",
        "        \"Categoria_MINISSERIE\": 0,\n",
        "        \"Categoria_MUSICAL\": 0,\n",
        "        \"Categoria_NOVELA\": 0,\n",
        "        \"Categoria_POLITICO\": 0,\n",
        "        \"Categoria_PREMIACAO\": 0,\n",
        "        \"Categoria_REALITY SHOW\": 0,\n",
        "        \"Categoria_RELIGIOSO\": 0,\n",
        "        \"Categoria_REPORTAGEM\": 0,\n",
        "        \"Categoria_RURAL\": 0,\n",
        "        \"Categoria_SERIES\": 0,\n",
        "        \"Categoria_SHOW\": 0,\n",
        "}\n",
        "\n",
        "# Deixa a categoria escolhida como positiva no dicionário\n",
        "dados[categoria] = 1\n",
        "\n",
        "# Transforma dicionário em array\n",
        "input = []\n",
        "for value in dados.values():\n",
        "      input.append(value)"
      ],
      "metadata": {
        "id": "SjwNgdXi5sX1"
      },
      "execution_count": 57,
      "outputs": []
    },
    {
      "cell_type": "code",
      "source": [
        "# Esta célula cria um array bidimensional x_s contendo entradas de predição conforme a duração desejada.\n",
        "# Por exemplo, para uma duração de 30m com início às 20h, criamos entradas de predição para\n",
        "# 20h, 20h05, 20h10, etc até 20h30. Esta célula cria esse array de entradas com aumento de horário.\n",
        "\n",
        "# Transforma duração em número de múltiplos de 5 minutos\n",
        "duracao = duracao / 5\n",
        "x_s = []\n",
        "time_array = [] # Array para guardar horários\n",
        "for i in range(int(duracao)):\n",
        "        if x_s == []: # Se for o primeiro elemento, não faz nada\n",
        "              pass\n",
        "        elif input[4] == 55: # Se o minuto atual for 55, troca a hora do array\n",
        "              if input[3] == 29: # Se a hora atual for 29, reinicie o ciclo com hora 6\n",
        "                      input[3] = 6 \n",
        "                      input[4] = 0\n",
        "              else: # Senão, aumenta uma hora e reinicia o minuto para 0\n",
        "                      input[3] += 1\n",
        "                      input[4] = 0\n",
        "        else:\n",
        "              input[4] += 5 # Senão, aumenta 5 minutos\n",
        "        time_array.append(str(input[3]) + \":\" + \n",
        "              str(input[4])) # Transforma horário modificado em string e coloca no array de tempo\n",
        "        x_s.append(input.copy()) # Adiciona conjunto de entradas no array x_s\n"
      ],
      "metadata": {
        "id": "VwDATLRR6deg"
      },
      "execution_count": 58,
      "outputs": []
    },
    {
      "cell_type": "markdown",
      "source": [
        "## Rat | Total Domicílios"
      ],
      "metadata": {
        "id": "2ARUB3JPEA5s"
      }
    },
    {
      "cell_type": "markdown",
      "source": [
        "Com isso, podemos começar a prever audiências. No caso do Rat | Total Domicílios, nosso modelo principal, mostramos tanto as predições instantâneas quanto a média. Para os outros modelos, por simplicidade, mostramos apenas a média por demográfico."
      ],
      "metadata": {
        "id": "D_Z6HPO3D0jB"
      }
    },
    {
      "cell_type": "code",
      "source": [
        "print('RAT | TOTAL DOMICÍLIOS')\n",
        "predicoes_rat = rat_total.predict(x_s) # Prevê valores instantâneos\n",
        "\n",
        "print('\\nDe 5m em 5m')\n",
        "for i in range(len(time_array)):\n",
        "  print(time_array[i] + \": \" + str(predicoes_rat[i])) # Mostra valores instantâneos\n",
        "\n",
        "print('\\nMédia pelo período')\n",
        "print(str(sum(predicoes_rat)/len(predicoes_rat))) # Mostra a média"
      ],
      "metadata": {
        "colab": {
          "base_uri": "https://localhost:8080/"
        },
        "id": "fEkzw_JT_9NV",
        "outputId": "79e68000-a064-4e43-8d35-551b00591830"
      },
      "execution_count": 59,
      "outputs": [
        {
          "output_type": "stream",
          "name": "stdout",
          "text": [
            "RAT | TOTAL DOMICÍLIOS\n",
            "\n",
            "De 5m em 5m\n",
            "20:0: 21.62\n",
            "20:5: 21.62\n",
            "20:10: 21.62\n",
            "20:15: 21.62\n",
            "20:20: 19.12\n",
            "20:25: 17.78\n",
            "20:30: 19.01\n",
            "20:35: 20.7\n",
            "20:40: 22.12\n",
            "20:45: 23.32\n",
            "\n",
            "Média pelo período\n",
            "20.853\n"
          ]
        }
      ]
    },
    {
      "cell_type": "markdown",
      "source": [
        "## Rat | Demográficos"
      ],
      "metadata": {
        "id": "fthaXqwaEF9F"
      }
    },
    {
      "cell_type": "code",
      "source": [
        "# Este dicionário guardará as predições para cada demográfico\n",
        "rats_dict = {\n",
        "  'AB | Rat%': [], \n",
        "  'C1 | Rat%': [], \n",
        "  'C2 | Rat%': [],\n",
        "  'DE | Rat%': [], \n",
        "  'Masculino | Rat%': [], \n",
        "  'Feminino | Rat%': [], \n",
        "  '4-11 anos | Rat%': [],\n",
        "  '12-17 anos | Rat%': [], \n",
        "  '18-24 anos | Rat%': [], \n",
        "  '25-34 anos | Rat%': [],\n",
        "  '35-49 anos | Rat%': [], \n",
        "  '50-59 anos | Rat%': [], \n",
        "  '60+ anos | Rat%': []\n",
        "} \n",
        "\n",
        "print('\\nRAT | TODOS OS DEMOGRÁFICOS (média)')\n",
        "predicoes_todos_rat = rat_demograficos.predict(x_s) # Faz predições\n",
        "\n",
        "# Guarda predições no dicionário. Note que cada linha de predição contém valores para\n",
        "# cada demográfico naquele horário. Por isso, para guardar os valores, precisamos\n",
        "# agrupar os valores por index entre os elementos do array predicoes_todo_rat.\n",
        "\n",
        "for predicao in predicoes_todos_rat: # Passa por cada linha de predição\n",
        "  for i in range(len(rats_dict.keys())): # Passa por cada elemento da linha\n",
        "    rats_dict[list(rats_dict.keys())[i]].append(predicao[i]) # Guarda esse elemento na chave correta\n",
        "      \n",
        "# Aqui, guardamos as médias de cada demográfico em um outro dicionário\n",
        "medias_rat_todos = {}\n",
        "for key in rats_dict.keys():\n",
        "  medias_rat_todos[key] = (sum(rats_dict[key])/len(rats_dict[key]))\n",
        "\n",
        "# Mostra médias\n",
        "for media in medias_rat_todos.keys():\n",
        "  print(media + \": \" + str(medias_rat_todos[media])[:5])"
      ],
      "metadata": {
        "colab": {
          "base_uri": "https://localhost:8080/"
        },
        "id": "Zk2dk0Y_AB3O",
        "outputId": "8098dfeb-edf9-42a5-d342-88dbc076ecd6"
      },
      "execution_count": 60,
      "outputs": [
        {
          "output_type": "stream",
          "name": "stdout",
          "text": [
            "\n",
            "RAT | TODOS OS DEMOGRÁFICOS (média)\n",
            "AB | Rat%: 22.82\n",
            "C1 | Rat%: 8.690\n",
            "C2 | Rat%: 10.40\n",
            "DE | Rat%: 12.21\n",
            "Masculino | Rat%: 17.67\n",
            "Feminino | Rat%: 10.29\n",
            "4-11 anos | Rat%: 12.91\n",
            "12-17 anos | Rat%: 9.318\n",
            "18-24 anos | Rat%: 11.65\n",
            "25-34 anos | Rat%: 13.37\n",
            "35-49 anos | Rat%: 10.30\n",
            "50-59 anos | Rat%: 9.235\n",
            "60+ anos | Rat%: 12.67\n"
          ]
        }
      ]
    },
    {
      "cell_type": "markdown",
      "source": [
        "## Shr%"
      ],
      "metadata": {
        "id": "ELSkZuk3E2c3"
      }
    },
    {
      "cell_type": "code",
      "source": [
        "# A mesma lógica da célula anterior se aplica nesta\n",
        "shr_dict = {\n",
        "  'Total Domicílios | Shr%': [], \n",
        "  'AB | Shr%': [], \n",
        "  'C1 | Shr%': [], \n",
        "  'C2 | Shr%': [],\n",
        "  'DE | Shr%': [], \n",
        "  'Masculino | Shr%': [], \n",
        "  'Feminino | Shr%': [], \n",
        "  '4-11 anos | Shr%': [],\n",
        "  '12-17 anos | Shr%': [], \n",
        "  '18-24 anos | Shr%': [], \n",
        "  '25-34 anos | Shr%': [],\n",
        "  '35-49 anos | Shr%': [], \n",
        "  '50-59 anos | Shr%': [], \n",
        "  '60+ anos | Shr%': []\n",
        "} \n",
        "\n",
        "print('\\nSHR | TODOS OS DEMOGRÁFICOS (média)')\n",
        "predicoes_todos_shr = shr.predict(x_s)\n",
        "\n",
        "for predicao in predicoes_todos_shr:\n",
        "  for i in range(len(shr_dict.keys())):\n",
        "    shr_dict[list(shr_dict.keys())[i]].append(predicao[i])\n",
        "      \n",
        "medias_shr_todos = {}\n",
        "for key in shr_dict.keys():\n",
        "  medias_shr_todos[key] = (sum(shr_dict[key])/len(shr_dict[key]))\n",
        "\n",
        "for media in medias_shr_todos.keys():\n",
        "  print(media + \": \" + str(medias_shr_todos[media])[:4])"
      ],
      "metadata": {
        "colab": {
          "base_uri": "https://localhost:8080/"
        },
        "id": "t2ILGqxRADZF",
        "outputId": "a413c70c-a600-4974-ffa7-b7a7bdadaf62"
      },
      "execution_count": 61,
      "outputs": [
        {
          "output_type": "stream",
          "name": "stdout",
          "text": [
            "\n",
            "SHR | TODOS OS DEMOGRÁFICOS (média)\n",
            "Total Domicílios | Shr%: 22.1\n",
            "AB | Shr%: 23.2\n",
            "C1 | Shr%: 22.5\n",
            "C2 | Shr%: 9.64\n",
            "DE | Shr%: 33.3\n",
            "Masculino | Shr%: 15.5\n",
            "Feminino | Shr%: 25.3\n",
            "4-11 anos | Shr%: 0.0\n",
            "12-17 anos | Shr%: 3.84\n",
            "18-24 anos | Shr%: 9.55\n",
            "25-34 anos | Shr%: 10.1\n",
            "35-49 anos | Shr%: 9.45\n",
            "50-59 anos | Shr%: 28.2\n",
            "60+ anos | Shr%: 48.5\n"
          ]
        }
      ]
    },
    {
      "cell_type": "code",
      "source": [
        "# A mesma lógica da célula anterior se aplica nesta\n",
        "rch_dict = {\n",
        "  'Total Domicílios | Rch%': [], \n",
        "  'AB | Rch%': [], \n",
        "  'C1 | Rch%': [], \n",
        "  'C2 | Rch%': [],\n",
        "  'DE | Rch%': [], \n",
        "  'Masculino | Rch%': [], \n",
        "  'Feminino | Rch%': [], \n",
        "  '4-11 anos | Rch%': [],\n",
        "  '12-17 anos | Rch%': [], \n",
        "  '18-24 anos | Rch%': [], \n",
        "  '25-34 anos | Rch%': [],\n",
        "  '35-49 anos | Rch%': [], \n",
        "  '50-59 anos | Rch%': [], \n",
        "  '60+ anos | Rch%': []\n",
        "} \n",
        "\n",
        "print('\\nRCH | TODOS OS DEMOGRÁFICOS (média)')\n",
        "predicoes_todos_rch = rch.predict(x_s)\n",
        "\n",
        "for predicao in predicoes_todos_rch:\n",
        "  for i in range(len(rch_dict.keys())):\n",
        "    rch_dict[list(rch_dict.keys())[i]].append(predicao[i])\n",
        "      \n",
        "medias_rch_todos = {}\n",
        "for key in rch_dict.keys():\n",
        "  medias_rch_todos[key] = (sum(rch_dict[key])/len(rch_dict[key]))\n",
        "\n",
        "for media in medias_rch_todos.keys():\n",
        "  print(media + \": \" + str(medias_rch_todos[media])[:4])"
      ],
      "metadata": {
        "colab": {
          "base_uri": "https://localhost:8080/"
        },
        "id": "NI5BkBpWBR6H",
        "outputId": "a6b5083d-edc1-47a3-a14a-bcce54755c30"
      },
      "execution_count": 62,
      "outputs": [
        {
          "output_type": "stream",
          "name": "stdout",
          "text": [
            "\n",
            "RCH | TODOS OS DEMOGRÁFICOS (média)\n",
            "Total Domicílios | Rch%: 10.2\n",
            "AB | Rch%: 10.0\n",
            "C1 | Rch%: 6.42\n",
            "C2 | Rch%: 10.1\n",
            "DE | Rch%: 15.8\n",
            "Masculino | Rch%: 9.92\n",
            "Feminino | Rch%: 10.6\n",
            "4-11 anos | Rch%: 2.34\n",
            "12-17 anos | Rch%: 4.79\n",
            "18-24 anos | Rch%: 7.92\n",
            "25-34 anos | Rch%: 6.75\n",
            "35-49 anos | Rch%: 10.6\n",
            "50-59 anos | Rch%: 14.5\n",
            "60+ anos | Rch%: 18.9\n"
          ]
        }
      ]
    }
  ]
}