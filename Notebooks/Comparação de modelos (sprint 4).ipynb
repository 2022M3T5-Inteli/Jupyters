{
  "cells": [
    {
      "cell_type": "markdown",
      "metadata": {
        "id": "qvc8SRJQ3rPj"
      },
      "source": [
        "# Cross-validation | Sprint 4"
      ]
    },
    {
      "cell_type": "markdown",
      "source": [
        "Nossa comparação de modelos consistiu no método de k-fold cross-validation disponível na biblioteca Scikit Learn. Essa ferramenta calcula a média de R² com base em várias amostras de treino e teste. Nesse sentido, o dataset original é dividido em k conjuntos. Então, a cada iteração, k - 1 conjuntos são utilizados para treino, com o restante servindo de teste. Essa divisão muda a cada repetição, o que garante que todos os subconjuntos sejam teste pelo menos uma vez. Assim, diminui-se o risco de overfitting e tem-se uma visão mais assertiva da qualidade de um modelo, pois levamos em consideração mais de um treinamento.\n"
      ],
      "metadata": {
        "id": "84s_LiMH1WGb"
      }
    },
    {
      "cell_type": "markdown",
      "source": [
        "No entanto, devido às limitações de tempo da Sprint 4 e as modificações necessárias na etapa de modelagem (leia-se, remoção de BBB e testes com random search), decidimos focar a comparação apenas no modelo principal para este projeto: o de Total Domicílios | Rat%. Nesse contexto, realizamos comparações para a Rodada 3 (nossa melhor rodada da Sprint 3), para a Rodada 6 (baseada na Rodada 6, mas sem BBB) e para a Rodada 7 (baseada na Rodada 6 com random search). Excluímos as outras porque elas não incluíam as features mais recentes e, portanto, tinham grande chance de estarem enviesadas. Desse modo, as Rodadas 6 e 7 atuam não como alternativas às outras, mas como aprimoramentos a elas, podendo substituí-las nas análises.\n"
      ],
      "metadata": {
        "id": "RoWBmMyo1aVD"
      }
    },
    {
      "cell_type": "markdown",
      "source": [
        "Como sempre, iniciamos importando as bibliotecas necessárias para manipular os arquivos:"
      ],
      "metadata": {
        "id": "BYv_U21x1a-j"
      }
    },
    {
      "cell_type": "code",
      "execution_count": 2,
      "metadata": {
        "id": "hmtoHkpLHkET"
      },
      "outputs": [],
      "source": [
        "import pandas as pd"
      ]
    },
    {
      "cell_type": "markdown",
      "metadata": {
        "id": "TtxvBVqL3v4h"
      },
      "source": [
        "## Rodada 3"
      ]
    },
    {
      "cell_type": "markdown",
      "source": [
        "Inicialmente, abrimos a planilha da rodada atual e separamos os dados em conjuntos de treino e teste."
      ],
      "metadata": {
        "id": "I22NOkmS1fuT"
      }
    },
    {
      "cell_type": "code",
      "execution_count": 3,
      "metadata": {
        "id": "2AWIFUsE3qdi",
        "colab": {
          "base_uri": "https://localhost:8080/"
        },
        "outputId": "0c1f53e3-f8ba-47ac-dad1-4d4ae035a067"
      },
      "outputs": [
        {
          "output_type": "stream",
          "name": "stdout",
          "text": [
            "Downloading...\n",
            "From: https://drive.google.com/uc?id=1Y0UhnVUSRmZCunFPXZYvjbkfy_GyzlJs\n",
            "To: /content/rodada_3.csv\n",
            "100% 36.8M/36.8M [00:00<00:00, 214MB/s]\n"
          ]
        }
      ],
      "source": [
        "# Abre a planilha\n",
        "!gdown '1Y0UhnVUSRmZCunFPXZYvjbkfy_GyzlJs'\n",
        "df = pd.read_csv('rodada_3.csv')"
      ]
    },
    {
      "cell_type": "code",
      "execution_count": null,
      "metadata": {
        "id": "ITU1NS2XI3FU"
      },
      "outputs": [],
      "source": [
        "from sklearn.model_selection import train_test_split\n",
        "\n",
        "model = df.copy() # Copia dataframe\n",
        "\n",
        "# Dividindo x e y\n",
        "y = model['Total Domicílios | Rat%'].values # Score de audiência\n",
        "x = model[['Dia da Semana', 'BBB',\n",
        "       'Mês', 'Dia', 'Hora', 'Minuto', 'Feriado', 'Categoria_AUDITORIO',\n",
        "       'Categoria_CARROS E MOTORES', 'Categoria_EDUCATIVO',\n",
        "       'Categoria_ENTREVISTA', 'Categoria_ESPORTE', 'Categoria_FEMININO',\n",
        "       'Categoria_FILME', 'Categoria_FUTEBOL', 'Categoria_HUMORISTICO',\n",
        "       'Categoria_JORNALISMO', 'Categoria_MUSICAL', 'Categoria_NOVELA',\n",
        "       'Categoria_REALITY SHOW', 'Categoria_RELIGIOSO', 'Categoria_REPORTAGEM',\n",
        "       'Categoria_RURAL', 'Categoria_SERIES', 'Categoria_SHOW']].values # Features de data, hora e categoria\n",
        "\n",
        "# Dividindo dados para treino e dados para teste\n",
        "x_train, x_test, y_train, y_test = train_test_split(x, y, \n",
        "                                                    test_size = 0.3, \n",
        "                                                    random_state = 42)"
      ]
    },
    {
      "cell_type": "markdown",
      "source": [
        "Então, criamos um array para guardar os modelos que desejamos comparar, com seus parâmetros específicos. No caso, utilizamos os melhores argumentos de cada algoritmo da rodada 3."
      ],
      "metadata": {
        "id": "kTZA9wSa16AM"
      }
    },
    {
      "cell_type": "code",
      "execution_count": null,
      "metadata": {
        "id": "Yk9kLvqate9k"
      },
      "outputs": [],
      "source": [
        "# Esta célula adiciona os modelos em um array\n",
        "\n",
        "# Importa bibliotecas necessárias para cada algoritmo\n",
        "from sklearn.neighbors import KNeighborsRegressor\n",
        "from sklearn.tree import DecisionTreeRegressor\n",
        "from sklearn.ensemble import RandomForestRegressor\n",
        "from sklearn.linear_model import LinearRegression\n",
        "\n",
        "models = []\n",
        "# Adiciona tuplas com legenda e objeto de cada modelo\n",
        "models.append(('Decision Tree (35)', DecisionTreeRegressor(max_depth=35) ))\n",
        "models.append(('Random Forest (200)', RandomForestRegressor(n_estimators=200)))\n",
        "models.append(('KNN (7)', KNeighborsRegressor(n_neighbors=7)))\n",
        "models.append(('Linear regression', LinearRegression())) # Linear Regression não tem hiperparâmetros\n"
      ]
    },
    {
      "cell_type": "markdown",
      "source": [
        "Depois, fizemos o cross-validation em si e geramos um gráfico de barras dos resultados."
      ],
      "metadata": {
        "id": "2617uQwT4qQl"
      }
    },
    {
      "cell_type": "code",
      "execution_count": null,
      "metadata": {
        "colab": {
          "base_uri": "https://localhost:8080/"
        },
        "id": "V0t40Qv0u_SL",
        "outputId": "3c709387-adc1-4b2a-9351-f911f29ede5c"
      },
      "outputs": [
        {
          "metadata": {
            "tags": null
          },
          "name": "stdout",
          "output_type": "stream",
          "text": [
            "Decision Tree (35): 0.960295 (0.001758)\n"
          ]
        },
        {
          "metadata": {
            "tags": null
          },
          "name": "stderr",
          "output_type": "stream",
          "text": [
            "/usr/local/lib/python3.7/dist-packages/joblib/externals/loky/process_executor.py:705: UserWarning: A worker stopped while some jobs were given to the executor. This can be caused by a too short worker timeout or by a memory leak.\n",
            "  \"timeout or by a memory leak.\", UserWarning\n"
          ]
        },
        {
          "output_type": "stream",
          "name": "stdout",
          "text": [
            "Random Forest (200): 0.971594 (0.000792)\n",
            "KNN (7): 0.814859 (0.002862)\n",
            "Linear regression: 0.414827 (0.005880)\n"
          ]
        }
      ],
      "source": [
        "# Importa bibliotecas de cross-validation\n",
        "from sklearn.model_selection import KFold\n",
        "from sklearn.model_selection import cross_val_score\n",
        "\n",
        "# Array para guardar acurácias (R²)\n",
        "acuracia = []\n",
        "# Este loop testa cada modelo no cross-validation e printa os resultados\n",
        "for sigla, modelo in models:\n",
        "    #divisão em 10 subconjuntos \n",
        "    kfold = KFold(n_splits=10, random_state=7, shuffle=True) # Cria 10 subconjuntos misturados com semente 7\n",
        "    resultado = cross_val_score(modelo, x, y, cv=kfold, n_jobs=-1) # Faz o cross-validation\n",
        "    acuracia.append(resultado.mean()) # Salva a média dos resultados no array\n",
        "    print(\"%s: %f (%f)\" % (sigla, resultado.mean(), resultado.std())) # Printa média e desvio-padrão"
      ]
    },
    {
      "cell_type": "code",
      "execution_count": null,
      "metadata": {
        "colab": {
          "base_uri": "https://localhost:8080/",
          "height": 352
        },
        "id": "5a_t-rWxvQvT",
        "outputId": "10b80e44-e0ea-4e3b-cbe6-33a4dad4a168"
      },
      "outputs": [
        {
          "data": {
            "image/png": "[encoded data removed]",
            "text/plain": [
              "<Figure size 576x288 with 1 Axes>"
            ]
          },
          "metadata": {},
          "output_type": "display_data"
        }
      ],
      "source": [
        "# Importa biblioteca de gráficos\n",
        "import matplotlib.pyplot as plt\n",
        "\n",
        "# Especifica tamanho do gráfico\n",
        "fig = plt.figure(figsize = (8,4))\n",
        "# Especifica gradação do gráfico\n",
        "axes = fig.add_axes([0.0, 0.0, 1.0, 1.0])\n",
        "axes.set_title('Comparação de Modelos') # Titula gráfico\n",
        "axes.bar([item[0] for item in models], acuracia) # Plota valores do array\n",
        "plt.show() # Mostra gráfico"
      ]
    },
    {
      "cell_type": "markdown",
      "source": [
        "Em geral, são os resultados esperados com base nos desempenhos vistos em outras rodadas. Entre árvore decisória e floresta aleatória, com apenas 1 ponto percentual de diferença, damos preferência à árvore pela sua maior explicabilidade."
      ],
      "metadata": {
        "id": "v3w71v7f466Z"
      }
    },
    {
      "cell_type": "markdown",
      "metadata": {
        "id": "kjIhkmPKOivN"
      },
      "source": [
        "## Rodada 6"
      ]
    },
    {
      "cell_type": "markdown",
      "source": [
        "Fazemos o mesmo da rodada anterior para a rodada 6."
      ],
      "metadata": {
        "id": "eYcyuM1T5SiM"
      }
    },
    {
      "cell_type": "code",
      "source": [
        "# Abre a planilha\n",
        "!gdown '1ayV7FeLwOamJnQiq2WVrdGL5EMADYXup'\n",
        "df = pd.read_csv('sem_bbb.csv')"
      ],
      "metadata": {
        "id": "H0Ab0OFk3nut",
        "colab": {
          "base_uri": "https://localhost:8080/"
        },
        "outputId": "92192a2f-286e-4f04-83c8-27da9ba09b26"
      },
      "execution_count": 4,
      "outputs": [
        {
          "output_type": "stream",
          "name": "stdout",
          "text": [
            "Downloading...\n",
            "From: https://drive.google.com/uc?id=1ayV7FeLwOamJnQiq2WVrdGL5EMADYXup\n",
            "To: /content/sem_bbb.csv\n",
            "100% 36.4M/36.4M [00:00<00:00, 85.8MB/s]\n"
          ]
        }
      ]
    },
    {
      "cell_type": "code",
      "execution_count": null,
      "metadata": {
        "id": "Im-C4ben3n7z"
      },
      "outputs": [],
      "source": [
        "from sklearn.model_selection import train_test_split\n",
        "\n",
        "model = df.copy() # Copia dataframe\n",
        "\n",
        "# Dividindo x e y\n",
        "y = model['Total Domicílios | Rat%'].values # Score de audiência\n",
        "x = model[['Dia da Semana',\n",
        "       'Mês', 'Dia', 'Hora', 'Minuto', 'Feriado', 'Categoria_AUDITORIO',\n",
        "       'Categoria_CARROS E MOTORES', 'Categoria_EDUCATIVO',\n",
        "       'Categoria_ENTREVISTA', 'Categoria_ESPORTE', 'Categoria_FEMININO',\n",
        "       'Categoria_FILME', 'Categoria_FUTEBOL', 'Categoria_HUMORISTICO',\n",
        "       'Categoria_JORNALISMO', 'Categoria_MUSICAL', 'Categoria_NOVELA',\n",
        "       'Categoria_REALITY SHOW', 'Categoria_RELIGIOSO', 'Categoria_REPORTAGEM',\n",
        "       'Categoria_RURAL', 'Categoria_SERIES', 'Categoria_SHOW']].values # Features de data, hora e categoria\n",
        "\n",
        "# Dividindo dados para treino e dados para teste\n",
        "x_train, x_test, y_train, y_test = train_test_split(x, y, \n",
        "                                                    test_size = 0.3, \n",
        "                                                    random_state = 42)"
      ]
    },
    {
      "cell_type": "code",
      "execution_count": null,
      "metadata": {
        "id": "pT2IQYmO3n70"
      },
      "outputs": [],
      "source": [
        "# Esta célula adiciona os modelos em um array\n",
        "\n",
        "# Importa bibliotecas necessárias para cada algoritmo\n",
        "from sklearn.neighbors import KNeighborsRegressor\n",
        "from sklearn.tree import DecisionTreeRegressor\n",
        "from sklearn.ensemble import RandomForestRegressor\n",
        "from sklearn.linear_model import LinearRegression\n",
        "\n",
        "models = []\n",
        "# Adiciona tuplas com legenda e objeto de cada modelo\n",
        "models.append(('Regressão Linear', LinearRegression()))\n",
        "models.append(('KNN (7)', KNeighborsRegressor(n_neighbors=7)))\n",
        "models.append(('Decision Tree (40)', DecisionTreeRegressor(max_depth=40)))\n",
        "models.append(('Random Forest (200)', RandomForestRegressor(n_estimators=200))) # Linear Regression não tem hiperparâmetros"
      ]
    },
    {
      "cell_type": "code",
      "execution_count": null,
      "metadata": {
        "colab": {
          "base_uri": "https://localhost:8080/"
        },
        "outputId": "2af16260-8f96-4b0a-f234-4cc30584afce",
        "id": "96ez26Ik3n70"
      },
      "outputs": [
        {
          "output_type": "stream",
          "name": "stdout",
          "text": [
            "Regressão Linear: 0.414576 (0.003483)\n"
          ]
        },
        {
          "output_type": "stream",
          "name": "stderr",
          "text": [
            "/usr/local/lib/python3.7/dist-packages/joblib/externals/loky/process_executor.py:705: UserWarning: A worker stopped while some jobs were given to the executor. This can be caused by a too short worker timeout or by a memory leak.\n",
            "  \"timeout or by a memory leak.\", UserWarning\n"
          ]
        },
        {
          "output_type": "stream",
          "name": "stdout",
          "text": [
            "KNN (7): 0.801285 (0.001136)\n",
            "Decision Tree (40): 0.935497 (0.003758)\n",
            "Random Forest (200): 0.957380 (0.000875)\n"
          ]
        }
      ],
      "source": [
        "# Importa bibliotecas de cross-validation\n",
        "from sklearn.model_selection import KFold\n",
        "from sklearn.model_selection import cross_val_score\n",
        "\n",
        "# Array para guardar acurácias (R²)\n",
        "acuracia = []\n",
        "# Este loop testa cada modelo no cross-validation e printa os resultados\n",
        "for sigla, modelo in models:\n",
        "    #divisão em 10 subconjuntos \n",
        "    kfold = KFold(n_splits=10, random_state=7, shuffle=True) # Cria 10 subconjuntos misturados com semente 7\n",
        "    resultado = cross_val_score(modelo, x, y, cv=kfold, n_jobs=-1) # Faz o cross-validation\n",
        "    acuracia.append(resultado.mean()) # Salva a média dos resultados no array\n",
        "    print(\"%s: %f (%f)\" % (sigla, resultado.mean(), resultado.std())) # Printa média e desvio-padrão"
      ]
    },
    {
      "cell_type": "code",
      "source": [
        "# Importa biblioteca de gráficos\n",
        "import matplotlib.pyplot as plt\n",
        "\n",
        "# Especifica tamanho do gráfico\n",
        "fig = plt.figure(figsize = (8,4))\n",
        "# Especifica gradação do gráfico\n",
        "axes = fig.add_axes([0.0, 0.0, 1.0, 1.0])\n",
        "axes.set_title('R² dos Modelos sem BBB (manual)') # Titula gráfico\n",
        "axes.bar([item[0] for item in models], acuracia) # Plota valores do array\n",
        "plt.show() # Mostra gráfico"
      ],
      "metadata": {
        "colab": {
          "base_uri": "https://localhost:8080/",
          "height": 352
        },
        "id": "nuTfoj8m4-Ae",
        "outputId": "bd3cdf61-284f-4bf7-db0b-0dd6e17a215c"
      },
      "execution_count": null,
      "outputs": [
        {
          "output_type": "display_data",
          "data": {
            "text/plain": [
              "<Figure size 576x288 with 1 Axes>"
            ],
            "image/png": "[encoded data removed]"
          },
          "metadata": {
            "needs_background": "light"
          }
        }
      ]
    },
    {
      "cell_type": "markdown",
      "source": [
        "Similarmente à rodada 3, a versão sem BBB oferece como melhor resultado o random forest e, como pior, a regressão linear. Os valores em si de R² não diferem muito, ficando acima dos 90% e em torno de 40%, respectivamente. Ainda assim, o padrão de se ter o decision tree em níveis comparáveis persiste, chegando a mais de 90% de R² com 40 de profundidade. Considerando a explicabilidade, é o melhor modelo, sem contar o fato de rodar mais rapidamente do que o random forest."
      ],
      "metadata": {
        "id": "eXmStUx85ZUd"
      }
    },
    {
      "cell_type": "markdown",
      "source": [
        "## Rodada 7"
      ],
      "metadata": {
        "id": "bd25y2zqoIYc"
      }
    },
    {
      "cell_type": "markdown",
      "source": [
        "Repetimos o mesmo processo para a rodada 7:"
      ],
      "metadata": {
        "id": "SH85URA16YMG"
      }
    },
    {
      "cell_type": "code",
      "source": [
        "# Abre a planilha\n",
        "df = pd.read_csv('sem_bbb.csv')"
      ],
      "metadata": {
        "id": "mKCzVUY6oQpN"
      },
      "execution_count": 5,
      "outputs": []
    },
    {
      "cell_type": "code",
      "execution_count": null,
      "metadata": {
        "id": "LjIPy11goQpN"
      },
      "outputs": [],
      "source": [
        "from sklearn.model_selection import train_test_split\n",
        "\n",
        "model = df.copy() # Copia dataframe\n",
        "\n",
        "# Dividindo x e y\n",
        "y = model['Total Domicílios | Rat%'].values # Score de audiência\n",
        "x = model[['Dia da Semana',\n",
        "       'Mês', 'Dia', 'Hora', 'Minuto', 'Feriado', 'Categoria_AUDITORIO',\n",
        "       'Categoria_CARROS E MOTORES', 'Categoria_EDUCATIVO',\n",
        "       'Categoria_ENTREVISTA', 'Categoria_ESPORTE', 'Categoria_FEMININO',\n",
        "       'Categoria_FILME', 'Categoria_FUTEBOL', 'Categoria_HUMORISTICO',\n",
        "       'Categoria_JORNALISMO', 'Categoria_MUSICAL', 'Categoria_NOVELA',\n",
        "       'Categoria_REALITY SHOW', 'Categoria_RELIGIOSO', 'Categoria_REPORTAGEM',\n",
        "       'Categoria_RURAL', 'Categoria_SERIES', 'Categoria_SHOW']].values # Features de data, hora e categoria\n",
        "\n",
        "# Dividindo dados para treino e dados para teste\n",
        "x_train, x_test, y_train, y_test = train_test_split(x, y, \n",
        "                                                    test_size = 0.3, \n",
        "                                                    random_state = 42)"
      ]
    },
    {
      "cell_type": "code",
      "execution_count": null,
      "metadata": {
        "id": "yFiAH7GfoQpO"
      },
      "outputs": [],
      "source": [
        "# Esta célula adiciona os modelos em um array\n",
        "\n",
        "# Importa bibliotecas necessárias para cada algoritmo\n",
        "from sklearn.neighbors import KNeighborsRegressor\n",
        "from sklearn.tree import DecisionTreeRegressor\n",
        "from sklearn.ensemble import RandomForestRegressor\n",
        "from sklearn.linear_model import LinearRegression\n",
        "\n",
        "models = []\n",
        "# Adiciona tuplas com legenda e objeto de cada modelo\n",
        "models.append(('KNN (7)', KNeighborsRegressor(n_neighbors=7)))\n",
        "models.append(('Decision Tree (28)', DecisionTreeRegressor(max_depth=28)))\n",
        "models.append(('Random Forest (166)', RandomForestRegressor(n_estimators=166)))"
      ]
    },
    {
      "cell_type": "code",
      "execution_count": null,
      "metadata": {
        "colab": {
          "base_uri": "https://localhost:8080/"
        },
        "outputId": "222e1dae-2170-4640-e2b4-02d9d465890d",
        "id": "o1wHaXKooQpO"
      },
      "outputs": [
        {
          "output_type": "stream",
          "name": "stderr",
          "text": [
            "[Parallel(n_jobs=-1)]: Using backend LokyBackend with 2 concurrent workers.\n",
            "[Parallel(n_jobs=-1)]: Done   3 out of   3 | elapsed:  7.9min finished\n",
            "[Parallel(n_jobs=-1)]: Using backend LokyBackend with 2 concurrent workers.\n"
          ]
        },
        {
          "output_type": "stream",
          "name": "stdout",
          "text": [
            "KNN (7): 0.801285 (0.001136)\n"
          ]
        },
        {
          "output_type": "stream",
          "name": "stderr",
          "text": [
            "[Parallel(n_jobs=-1)]: Done   3 out of   3 | elapsed:    2.1s finished\n",
            "[Parallel(n_jobs=-1)]: Using backend LokyBackend with 2 concurrent workers.\n"
          ]
        },
        {
          "output_type": "stream",
          "name": "stdout",
          "text": [
            "Decision Tree (28): 0.935978 (0.003671)\n",
            "Random Forest (166): 0.957182 (0.000687)\n"
          ]
        },
        {
          "output_type": "stream",
          "name": "stderr",
          "text": [
            "[Parallel(n_jobs=-1)]: Done   3 out of   3 | elapsed:  3.2min finished\n"
          ]
        }
      ],
      "source": [
        "# Importa bibliotecas de cross-validation\n",
        "from sklearn.model_selection import KFold\n",
        "from sklearn.model_selection import cross_val_score\n",
        "\n",
        "# Array para guardar acurácias (R²)\n",
        "acuracia = []\n",
        "# Este loop testa cada modelo no cross-validation e printa os resultados\n",
        "for sigla, modelo in models:\n",
        "    #divisão em 10 subconjuntos \n",
        "    kfold = KFold(n_splits=10, random_state=7, shuffle=True) # Cria 10 subconjuntos misturados com semente 7\n",
        "    resultado = cross_val_score(modelo, x, y, cv=kfold, n_jobs=-1) # Faz o cross-validation\n",
        "    acuracia.append(resultado.mean()) # Salva a média dos resultados no array\n",
        "    print(\"%s: %f (%f)\" % (sigla, resultado.mean(), resultado.std())) # Printa média e desvio-padrão"
      ]
    },
    {
      "cell_type": "code",
      "source": [
        "# Importa biblioteca de gráficos\n",
        "import matplotlib.pyplot as plt\n",
        "\n",
        "# Especifica tamanho do gráfico\n",
        "fig = plt.figure(figsize = (8,4))\n",
        "# Especifica gradação do gráfico\n",
        "axes = fig.add_axes([0.0, 0.0, 1.0, 1.0])\n",
        "axes.set_title('R² dos Modelos sem BBB (random search)') # Titula gráfico\n",
        "axes.bar([item[0] for item in models], acuracia) # Plota valores do array\n",
        "plt.show() # Mostra gráfico"
      ],
      "metadata": {
        "colab": {
          "base_uri": "https://localhost:8080/",
          "height": 352
        },
        "outputId": "ec252585-14d2-425b-d5b7-e4899950d6c2",
        "id": "5yb1FMM2oQpO"
      },
      "execution_count": null,
      "outputs": [
        {
          "output_type": "display_data",
          "data": {
            "text/plain": [
              "<Figure size 576x288 with 1 Axes>"
            ],
            "image/png": "[encoded data removed]"
          },
          "metadata": {
            "needs_background": "light"
          }
        }
      ]
    },
    {
      "cell_type": "markdown",
      "source": [
        "A rodada 7 é a mais importante, pois otimiza parâmetros em nossa melhor seleção de features. Portanto, sabíamos já antes da comparação que nosso modelo escolhido viria desse conjunto. A decision tree consegue 93% de R², enquanto random forest chega a 95%. Essa diferença percentual é compensada, entretanto, pelo gráfico mais simples da árvore decisória juntamente de seu tempo de execução menor. Quanto ao KNN, apesar de muito bom, não oferece benefícios significativos o suficiente para justificar o R² de 80%.\n"
      ],
      "metadata": {
        "id": "V3EeiHn46u4t"
      }
    }
  ],
  "metadata": {
    "colab": {
      "provenance": []
    },
    "kernelspec": {
      "display_name": "Python 3",
      "name": "python3"
    },
    "language_info": {
      "name": "python"
    }
  },
  "nbformat": 4,
  "nbformat_minor": 0
}