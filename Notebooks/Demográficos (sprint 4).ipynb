{
  "cells": [
    {
      "cell_type": "markdown",
      "source": [
        "# Demográficos\n",
        "Este colab contém o treinamento dos modelos para os demográficos de Rat, Shr e Rch. Por serem entregáveis extras, aplicamos apenas os melhores parâmetros para Rat | Total Domícilios, que foi nosso modelo principal até o momento. Logo, não realizamos random search nem cross-validation por limitação de tempo e pelo caráter não mandatório desta etapa."
      ],
      "metadata": {
        "id": "EVUWgxOksFXN"
      }
    },
    {
      "cell_type": "code",
      "execution_count": 2,
      "metadata": {
        "id": "gjn94RlngEEo"
      },
      "outputs": [],
      "source": [
        "# Importando as bibliotecas necessárias para todo o notebook\n",
        "import pandas as pd"
      ]
    },
    {
      "cell_type": "code",
      "execution_count": 3,
      "metadata": {
        "id": "RK0ngR79gPHc",
        "colab": {
          "base_uri": "https://localhost:8080/"
        },
        "outputId": "87964f50-b795-47a8-f7e7-1f77cc939043"
      },
      "outputs": [
        {
          "output_type": "stream",
          "name": "stdout",
          "text": [
            "Downloading...\n",
            "From: https://drive.google.com/uc?id=1Qcm_0Nki9wiJZ1GCKMR7A53oUC5zPpls\n",
            "To: /content/emissora_todas_audiencias.csv\n",
            "100% 79.2M/79.2M [00:00<00:00, 198MB/s]\n"
          ]
        }
      ],
      "source": [
        "!gdown '1Qcm_0Nki9wiJZ1GCKMR7A53oUC5zPpls'\n",
        "df = pd.read_csv('emissora_todas_audiencias.csv')"
      ]
    },
    {
      "cell_type": "markdown",
      "source": [
        "## Preparação de dados"
      ],
      "metadata": {
        "id": "EIN3rzP5tsA7"
      }
    },
    {
      "cell_type": "markdown",
      "source": [
        "Novamente, precisamos preparar a planilha com todas as colunas de demográficos para Rat, Shr e Rch. Em resumo, realizamos as mesmas manipulações do nosso modelo principal, porém as aplicamos para os outros campos. Para isso, começamos separando os dias e meses em campos individuais:"
      ],
      "metadata": {
        "id": "u-dsW857suFt"
      }
    },
    {
      "cell_type": "code",
      "execution_count": null,
      "metadata": {
        "id": "WJ2FmH9mg8lu"
      },
      "outputs": [],
      "source": [
        "def segregate_day(df):\n",
        "  # Guarda datas da coluna 'Data' como objetos na variável 'dates'\n",
        "  dates = pd.to_datetime(df['Data'])\n",
        "  days = []\n",
        "  # Este loop adiciona o dia de cada data em um array 'days'\n",
        "  for date in dates:\n",
        "    days.append(date.day)\n",
        "  # Cria coluna 'Dia' com array 'days'\n",
        "  df['Dia'] = days\n",
        "  # Retorna df modificada\n",
        "  return df\n",
        "\n",
        "def segregate_month(df):\n",
        "  # Guarda datas da coluna 'Data' como objetos na variável 'dates'\n",
        "  dates = pd.to_datetime(df['Data'])\n",
        "  months = []\n",
        "  # Este loop adiciona o mês de cada data em um array 'months'\n",
        "  for date in dates:\n",
        "    months.append(date.month)\n",
        "  # Cria coluna 'mês' com array 'months'\n",
        "  df['Mês'] = months\n",
        "  # Salva em CSV na pasta correta\n",
        "  return df\n",
        "\n",
        "df = segregate_day(df)\n",
        "df = segregate_month(df)"
      ]
    },
    {
      "cell_type": "markdown",
      "source": [
        "Também criamos a coluna binária de feriados:"
      ],
      "metadata": {
        "id": "nNCbUKQjs35f"
      }
    },
    {
      "cell_type": "code",
      "execution_count": null,
      "metadata": {
        "id": "QIkdt9M1hAno"
      },
      "outputs": [],
      "source": [
        "from datetime import date # Importa objeto de datas\n",
        "import holidays # Importa biblioteca de feriados\n",
        "\n",
        "holidays = holidays.Brazil() # Cria objeto de feriados brasileiros\n",
        "\n",
        "# Esta função checa o valor de 'Data' de certa linha e, se ele estiver associado\n",
        "# a um feriado do objeto 'holidays', retorna 1. Caso contrário, retorna 0.\n",
        "def feriado(row): \n",
        "  if pd.to_datetime(row['Data']) in holidays:\n",
        "    return 1\n",
        "  return 0\n",
        "\n",
        "# A função apply aplica a função \"feriado\" a todas as linhas da dataframe.\n",
        "# O valor retornado é adicionado a uma nova coluna chamada \"Feriado\".\n",
        "# Desse modo, datas de feriado ficam com 1 nessa coluna, enquanto as outras ficam\n",
        "# com 0\n",
        "df['Feriado'] = df.apply(lambda row: feriado(row), axis=1)"
      ]
    },
    {
      "cell_type": "markdown",
      "source": [
        "Depois, fazemos o one-hot encoding das categorias:"
      ],
      "metadata": {
        "id": "eh2bBPM9s77d"
      }
    },
    {
      "cell_type": "code",
      "execution_count": null,
      "metadata": {
        "colab": {
          "base_uri": "https://localhost:8080/"
        },
        "id": "qnvc6r6ChD0r",
        "outputId": "2ece26f9-d298-4e43-b82f-cdb2c266cd74"
      },
      "outputs": [
        {
          "output_type": "execute_result",
          "data": {
            "text/plain": [
              "0         JORNALISMO\n",
              "1         JORNALISMO\n",
              "2         JORNALISMO\n",
              "3         JORNALISMO\n",
              "4         JORNALISMO\n",
              "             ...    \n",
              "218846    JORNALISMO\n",
              "218847    JORNALISMO\n",
              "218848    JORNALISMO\n",
              "218849    JORNALISMO\n",
              "218850    JORNALISMO\n",
              "Name: Categoria, Length: 218851, dtype: object"
            ]
          },
          "metadata": {},
          "execution_count": 5
        }
      ],
      "source": [
        "# Este método transforma os valores únicos de uma coluna em colunas individuais auxiliares,\n",
        "# seguindo o modelo de one-hot encoding. O parâmetro \"prefix\" determina o prefixo de cada coluna.\n",
        "dummies = pd.get_dummies(df['Categoria'], prefix='Categoria')\n",
        "\n",
        "# Concatena colunas auxiliares com planilha existente\n",
        "df = pd.concat([df, dummies], axis=1)\n",
        "\n",
        "# Deleta coluna de categorias original\n",
        "df.pop('Categoria')"
      ]
    },
    {
      "cell_type": "markdown",
      "source": [
        "Então, destrinchamos a coluna de 'Hora Início' em 'Hora' e 'Minuto'."
      ],
      "metadata": {
        "id": "XjG7gONQtPMJ"
      }
    },
    {
      "cell_type": "code",
      "execution_count": null,
      "metadata": {
        "id": "C0TKP0PEhFsI"
      },
      "outputs": [],
      "source": [
        "series = df['Hora Início'] # Isola coluna de horários\n",
        "hours = [] # Inicia array para guardar unidades de hora\n",
        "minutes = [] # Inicia array para guardar unidades de minuto\n",
        "\n",
        "# Este loop passa por cada item da coluna de horário, acessa as unidades através\n",
        "# dos indexes do valor em string, transforma em inteiro e salva no array\n",
        "for time in series:\n",
        "  hours.append(int(time[:2])) # A hora corresponde aos caracteres 0 e 1\n",
        "  # O caractere 2 é \":\" no formato \"xx:xx:xx\"\n",
        "  minutes.append(int(time[3:5])) # O minuto corresponde aos caracteres 3 e 4\n",
        "\n",
        "# Os arrays são adicionados como colunas na dataframe\n",
        "df['Hora'] = hours\n",
        "df['Minuto'] = minutes"
      ]
    },
    {
      "cell_type": "markdown",
      "source": [
        "Por fim, fizemos o label encoding dos dias da semana e deletamos as colunas desnecessárias."
      ],
      "metadata": {
        "id": "0Vp_nNg3tjQu"
      }
    },
    {
      "cell_type": "code",
      "execution_count": null,
      "metadata": {
        "id": "ymRMPV26hj9Y"
      },
      "outputs": [],
      "source": [
        "# Hashmap de associação de dias da semana com números\n",
        "week_encoding = {'Segunda': 1, 'Terça': 2, 'Quarta': 3, 'Quinta': 4, 'Sexta': 5, \n",
        "                 'Sábado': 6, 'Domingo': 7}\n",
        "\n",
        "# Faz a substituição com base no hashmap\n",
        "df['Dia da Semana'] = df['Dia da Semana'].replace(week_encoding)\n"
      ]
    },
    {
      "cell_type": "code",
      "execution_count": null,
      "metadata": {
        "colab": {
          "base_uri": "https://localhost:8080/",
          "height": 557
        },
        "id": "fEFzfc6thRuX",
        "outputId": "1b004b9f-7d97-4af3-fba7-874de4bb3aa7"
      },
      "outputs": [
        {
          "output_type": "execute_result",
          "data": {
            "text/plain": [
              "        Dia da Semana  Total Domicílios | Rat%  AB | Rat%  C1 | Rat%  \\\n",
              "0                   1                     4.27       2.40       0.31   \n",
              "1                   1                     4.89       3.02       0.51   \n",
              "2                   1                     5.74       3.13       1.53   \n",
              "3                   1                     6.55       3.06       1.86   \n",
              "4                   1                     7.27       3.49       2.18   \n",
              "...               ...                      ...        ...        ...   \n",
              "218846              4                     1.67       0.30       0.41   \n",
              "218847              4                     1.97       0.30       0.41   \n",
              "218848              4                     2.22       0.30       0.41   \n",
              "218849              4                     2.71       0.54       0.41   \n",
              "218850              4                     3.60       0.90       0.41   \n",
              "\n",
              "        C2 | Rat%  DE | Rat%  Masculino | Rat%  Feminino | Rat%  \\\n",
              "0            0.82       5.23              1.65             2.35   \n",
              "1            1.08       5.23              1.89             2.75   \n",
              "2            1.22       5.23              1.97             3.24   \n",
              "3            1.48       6.46              1.92             3.92   \n",
              "4            1.48       6.46              2.23             4.05   \n",
              "...           ...        ...               ...              ...   \n",
              "218846       1.03       0.53              0.17             0.92   \n",
              "218847       1.45       0.35              0.17             1.07   \n",
              "218848       1.45       0.88              0.17             1.26   \n",
              "218849       1.81       0.88              0.37             1.42   \n",
              "218850       2.50       0.88              0.51             1.89   \n",
              "\n",
              "        4-11 anos | Rat%  12-17 anos | Rat%  ...  Categoria_POLITICO  \\\n",
              "0                    0.0               0.00  ...                   0   \n",
              "1                    0.0               0.00  ...                   0   \n",
              "2                    0.0               1.22  ...                   0   \n",
              "3                    0.0               1.52  ...                   0   \n",
              "4                    0.0               1.52  ...                   0   \n",
              "...                  ...                ...  ...                 ...   \n",
              "218846               0.0               0.96  ...                   0   \n",
              "218847               0.0               0.96  ...                   0   \n",
              "218848               0.0               0.96  ...                   0   \n",
              "218849               0.0               0.96  ...                   0   \n",
              "218850               0.0               0.96  ...                   0   \n",
              "\n",
              "        Categoria_PREMIACAO  Categoria_REALITY SHOW  Categoria_RELIGIOSO  \\\n",
              "0                         0                       0                    0   \n",
              "1                         0                       0                    0   \n",
              "2                         0                       0                    0   \n",
              "3                         0                       0                    0   \n",
              "4                         0                       0                    0   \n",
              "...                     ...                     ...                  ...   \n",
              "218846                    0                       0                    0   \n",
              "218847                    0                       0                    0   \n",
              "218848                    0                       0                    0   \n",
              "218849                    0                       0                    0   \n",
              "218850                    0                       0                    0   \n",
              "\n",
              "        Categoria_REPORTAGEM  Categoria_RURAL  Categoria_SERIES  \\\n",
              "0                          0                0                 0   \n",
              "1                          0                0                 0   \n",
              "2                          0                0                 0   \n",
              "3                          0                0                 0   \n",
              "4                          0                0                 0   \n",
              "...                      ...              ...               ...   \n",
              "218846                     0                0                 0   \n",
              "218847                     0                0                 0   \n",
              "218848                     0                0                 0   \n",
              "218849                     0                0                 0   \n",
              "218850                     0                0                 0   \n",
              "\n",
              "        Categoria_SHOW  Hora  Minuto  \n",
              "0                    0     6       0  \n",
              "1                    0     6       5  \n",
              "2                    0     6      10  \n",
              "3                    0     6      15  \n",
              "4                    0     6      20  \n",
              "...                ...   ...     ...  \n",
              "218846               0    29      35  \n",
              "218847               0    29      40  \n",
              "218848               0    29      45  \n",
              "218849               0    29      50  \n",
              "218850               0    29      55  \n",
              "\n",
              "[218851 rows x 87 columns]"
            ],
            "text/html": [
              "\n",
              "  <div id=\"df-0d971df2-241b-490b-a283-c0c07afdf0bc\">\n",
              "    <div class=\"colab-df-container\">\n",
              "      <div>\n",
              "<style scoped>\n",
              "    .dataframe tbody tr th:only-of-type {\n",
              "        vertical-align: middle;\n",
              "    }\n",
              "\n",
              "    .dataframe tbody tr th {\n",
              "        vertical-align: top;\n",
              "    }\n",
              "\n",
              "    .dataframe thead th {\n",
              "        text-align: right;\n",
              "    }\n",
              "</style>\n",
              "<table border=\"1\" class=\"dataframe\">\n",
              "  <thead>\n",
              "    <tr style=\"text-align: right;\">\n",
              "      <th></th>\n",
              "      <th>Dia da Semana</th>\n",
              "      <th>Total Domicílios | Rat%</th>\n",
              "      <th>AB | Rat%</th>\n",
              "      <th>C1 | Rat%</th>\n",
              "      <th>C2 | Rat%</th>\n",
              "      <th>DE | Rat%</th>\n",
              "      <th>Masculino | Rat%</th>\n",
              "      <th>Feminino | Rat%</th>\n",
              "      <th>4-11 anos | Rat%</th>\n",
              "      <th>12-17 anos | Rat%</th>\n",
              "      <th>...</th>\n",
              "      <th>Categoria_POLITICO</th>\n",
              "      <th>Categoria_PREMIACAO</th>\n",
              "      <th>Categoria_REALITY SHOW</th>\n",
              "      <th>Categoria_RELIGIOSO</th>\n",
              "      <th>Categoria_REPORTAGEM</th>\n",
              "      <th>Categoria_RURAL</th>\n",
              "      <th>Categoria_SERIES</th>\n",
              "      <th>Categoria_SHOW</th>\n",
              "      <th>Hora</th>\n",
              "      <th>Minuto</th>\n",
              "    </tr>\n",
              "  </thead>\n",
              "  <tbody>\n",
              "    <tr>\n",
              "      <th>0</th>\n",
              "      <td>1</td>\n",
              "      <td>4.27</td>\n",
              "      <td>2.40</td>\n",
              "      <td>0.31</td>\n",
              "      <td>0.82</td>\n",
              "      <td>5.23</td>\n",
              "      <td>1.65</td>\n",
              "      <td>2.35</td>\n",
              "      <td>0.0</td>\n",
              "      <td>0.00</td>\n",
              "      <td>...</td>\n",
              "      <td>0</td>\n",
              "      <td>0</td>\n",
              "      <td>0</td>\n",
              "      <td>0</td>\n",
              "      <td>0</td>\n",
              "      <td>0</td>\n",
              "      <td>0</td>\n",
              "      <td>0</td>\n",
              "      <td>6</td>\n",
              "      <td>0</td>\n",
              "    </tr>\n",
              "    <tr>\n",
              "      <th>1</th>\n",
              "      <td>1</td>\n",
              "      <td>4.89</td>\n",
              "      <td>3.02</td>\n",
              "      <td>0.51</td>\n",
              "      <td>1.08</td>\n",
              "      <td>5.23</td>\n",
              "      <td>1.89</td>\n",
              "      <td>2.75</td>\n",
              "      <td>0.0</td>\n",
              "      <td>0.00</td>\n",
              "      <td>...</td>\n",
              "      <td>0</td>\n",
              "      <td>0</td>\n",
              "      <td>0</td>\n",
              "      <td>0</td>\n",
              "      <td>0</td>\n",
              "      <td>0</td>\n",
              "      <td>0</td>\n",
              "      <td>0</td>\n",
              "      <td>6</td>\n",
              "      <td>5</td>\n",
              "    </tr>\n",
              "    <tr>\n",
              "      <th>2</th>\n",
              "      <td>1</td>\n",
              "      <td>5.74</td>\n",
              "      <td>3.13</td>\n",
              "      <td>1.53</td>\n",
              "      <td>1.22</td>\n",
              "      <td>5.23</td>\n",
              "      <td>1.97</td>\n",
              "      <td>3.24</td>\n",
              "      <td>0.0</td>\n",
              "      <td>1.22</td>\n",
              "      <td>...</td>\n",
              "      <td>0</td>\n",
              "      <td>0</td>\n",
              "      <td>0</td>\n",
              "      <td>0</td>\n",
              "      <td>0</td>\n",
              "      <td>0</td>\n",
              "      <td>0</td>\n",
              "      <td>0</td>\n",
              "      <td>6</td>\n",
              "      <td>10</td>\n",
              "    </tr>\n",
              "    <tr>\n",
              "      <th>3</th>\n",
              "      <td>1</td>\n",
              "      <td>6.55</td>\n",
              "      <td>3.06</td>\n",
              "      <td>1.86</td>\n",
              "      <td>1.48</td>\n",
              "      <td>6.46</td>\n",
              "      <td>1.92</td>\n",
              "      <td>3.92</td>\n",
              "      <td>0.0</td>\n",
              "      <td>1.52</td>\n",
              "      <td>...</td>\n",
              "      <td>0</td>\n",
              "      <td>0</td>\n",
              "      <td>0</td>\n",
              "      <td>0</td>\n",
              "      <td>0</td>\n",
              "      <td>0</td>\n",
              "      <td>0</td>\n",
              "      <td>0</td>\n",
              "      <td>6</td>\n",
              "      <td>15</td>\n",
              "    </tr>\n",
              "    <tr>\n",
              "      <th>4</th>\n",
              "      <td>1</td>\n",
              "      <td>7.27</td>\n",
              "      <td>3.49</td>\n",
              "      <td>2.18</td>\n",
              "      <td>1.48</td>\n",
              "      <td>6.46</td>\n",
              "      <td>2.23</td>\n",
              "      <td>4.05</td>\n",
              "      <td>0.0</td>\n",
              "      <td>1.52</td>\n",
              "      <td>...</td>\n",
              "      <td>0</td>\n",
              "      <td>0</td>\n",
              "      <td>0</td>\n",
              "      <td>0</td>\n",
              "      <td>0</td>\n",
              "      <td>0</td>\n",
              "      <td>0</td>\n",
              "      <td>0</td>\n",
              "      <td>6</td>\n",
              "      <td>20</td>\n",
              "    </tr>\n",
              "    <tr>\n",
              "      <th>...</th>\n",
              "      <td>...</td>\n",
              "      <td>...</td>\n",
              "      <td>...</td>\n",
              "      <td>...</td>\n",
              "      <td>...</td>\n",
              "      <td>...</td>\n",
              "      <td>...</td>\n",
              "      <td>...</td>\n",
              "      <td>...</td>\n",
              "      <td>...</td>\n",
              "      <td>...</td>\n",
              "      <td>...</td>\n",
              "      <td>...</td>\n",
              "      <td>...</td>\n",
              "      <td>...</td>\n",
              "      <td>...</td>\n",
              "      <td>...</td>\n",
              "      <td>...</td>\n",
              "      <td>...</td>\n",
              "      <td>...</td>\n",
              "      <td>...</td>\n",
              "    </tr>\n",
              "    <tr>\n",
              "      <th>218846</th>\n",
              "      <td>4</td>\n",
              "      <td>1.67</td>\n",
              "      <td>0.30</td>\n",
              "      <td>0.41</td>\n",
              "      <td>1.03</td>\n",
              "      <td>0.53</td>\n",
              "      <td>0.17</td>\n",
              "      <td>0.92</td>\n",
              "      <td>0.0</td>\n",
              "      <td>0.96</td>\n",
              "      <td>...</td>\n",
              "      <td>0</td>\n",
              "      <td>0</td>\n",
              "      <td>0</td>\n",
              "      <td>0</td>\n",
              "      <td>0</td>\n",
              "      <td>0</td>\n",
              "      <td>0</td>\n",
              "      <td>0</td>\n",
              "      <td>29</td>\n",
              "      <td>35</td>\n",
              "    </tr>\n",
              "    <tr>\n",
              "      <th>218847</th>\n",
              "      <td>4</td>\n",
              "      <td>1.97</td>\n",
              "      <td>0.30</td>\n",
              "      <td>0.41</td>\n",
              "      <td>1.45</td>\n",
              "      <td>0.35</td>\n",
              "      <td>0.17</td>\n",
              "      <td>1.07</td>\n",
              "      <td>0.0</td>\n",
              "      <td>0.96</td>\n",
              "      <td>...</td>\n",
              "      <td>0</td>\n",
              "      <td>0</td>\n",
              "      <td>0</td>\n",
              "      <td>0</td>\n",
              "      <td>0</td>\n",
              "      <td>0</td>\n",
              "      <td>0</td>\n",
              "      <td>0</td>\n",
              "      <td>29</td>\n",
              "      <td>40</td>\n",
              "    </tr>\n",
              "    <tr>\n",
              "      <th>218848</th>\n",
              "      <td>4</td>\n",
              "      <td>2.22</td>\n",
              "      <td>0.30</td>\n",
              "      <td>0.41</td>\n",
              "      <td>1.45</td>\n",
              "      <td>0.88</td>\n",
              "      <td>0.17</td>\n",
              "      <td>1.26</td>\n",
              "      <td>0.0</td>\n",
              "      <td>0.96</td>\n",
              "      <td>...</td>\n",
              "      <td>0</td>\n",
              "      <td>0</td>\n",
              "      <td>0</td>\n",
              "      <td>0</td>\n",
              "      <td>0</td>\n",
              "      <td>0</td>\n",
              "      <td>0</td>\n",
              "      <td>0</td>\n",
              "      <td>29</td>\n",
              "      <td>45</td>\n",
              "    </tr>\n",
              "    <tr>\n",
              "      <th>218849</th>\n",
              "      <td>4</td>\n",
              "      <td>2.71</td>\n",
              "      <td>0.54</td>\n",
              "      <td>0.41</td>\n",
              "      <td>1.81</td>\n",
              "      <td>0.88</td>\n",
              "      <td>0.37</td>\n",
              "      <td>1.42</td>\n",
              "      <td>0.0</td>\n",
              "      <td>0.96</td>\n",
              "      <td>...</td>\n",
              "      <td>0</td>\n",
              "      <td>0</td>\n",
              "      <td>0</td>\n",
              "      <td>0</td>\n",
              "      <td>0</td>\n",
              "      <td>0</td>\n",
              "      <td>0</td>\n",
              "      <td>0</td>\n",
              "      <td>29</td>\n",
              "      <td>50</td>\n",
              "    </tr>\n",
              "    <tr>\n",
              "      <th>218850</th>\n",
              "      <td>4</td>\n",
              "      <td>3.60</td>\n",
              "      <td>0.90</td>\n",
              "      <td>0.41</td>\n",
              "      <td>2.50</td>\n",
              "      <td>0.88</td>\n",
              "      <td>0.51</td>\n",
              "      <td>1.89</td>\n",
              "      <td>0.0</td>\n",
              "      <td>0.96</td>\n",
              "      <td>...</td>\n",
              "      <td>0</td>\n",
              "      <td>0</td>\n",
              "      <td>0</td>\n",
              "      <td>0</td>\n",
              "      <td>0</td>\n",
              "      <td>0</td>\n",
              "      <td>0</td>\n",
              "      <td>0</td>\n",
              "      <td>29</td>\n",
              "      <td>55</td>\n",
              "    </tr>\n",
              "  </tbody>\n",
              "</table>\n",
              "<p>218851 rows × 87 columns</p>\n",
              "</div>\n",
              "      <button class=\"colab-df-convert\" onclick=\"convertToInteractive('df-0d971df2-241b-490b-a283-c0c07afdf0bc')\"\n",
              "              title=\"Convert this dataframe to an interactive table.\"\n",
              "              style=\"display:none;\">\n",
              "        \n",
              "  <svg xmlns=\"http://www.w3.org/2000/svg\" height=\"24px\"viewBox=\"0 0 24 24\"\n",
              "       width=\"24px\">\n",
              "    <path d=\"M0 0h24v24H0V0z\" fill=\"none\"/>\n",
              "    <path d=\"M18.56 5.44l.94 2.06.94-2.06 2.06-.94-2.06-.94-.94-2.06-.94 2.06-2.06.94zm-11 1L8.5 8.5l.94-2.06 2.06-.94-2.06-.94L8.5 2.5l-.94 2.06-2.06.94zm10 10l.94 2.06.94-2.06 2.06-.94-2.06-.94-.94-2.06-.94 2.06-2.06.94z\"/><path d=\"M17.41 7.96l-1.37-1.37c-.4-.4-.92-.59-1.43-.59-.52 0-1.04.2-1.43.59L10.3 9.45l-7.72 7.72c-.78.78-.78 2.05 0 2.83L4 21.41c.39.39.9.59 1.41.59.51 0 1.02-.2 1.41-.59l7.78-7.78 2.81-2.81c.8-.78.8-2.07 0-2.86zM5.41 20L4 18.59l7.72-7.72 1.47 1.35L5.41 20z\"/>\n",
              "  </svg>\n",
              "      </button>\n",
              "      \n",
              "  <style>\n",
              "    .colab-df-container {\n",
              "      display:flex;\n",
              "      flex-wrap:wrap;\n",
              "      gap: 12px;\n",
              "    }\n",
              "\n",
              "    .colab-df-convert {\n",
              "      background-color: #E8F0FE;\n",
              "      border: none;\n",
              "      border-radius: 50%;\n",
              "      cursor: pointer;\n",
              "      display: none;\n",
              "      fill: #1967D2;\n",
              "      height: 32px;\n",
              "      padding: 0 0 0 0;\n",
              "      width: 32px;\n",
              "    }\n",
              "\n",
              "    .colab-df-convert:hover {\n",
              "      background-color: #E2EBFA;\n",
              "      box-shadow: 0px 1px 2px rgba(60, 64, 67, 0.3), 0px 1px 3px 1px rgba(60, 64, 67, 0.15);\n",
              "      fill: #174EA6;\n",
              "    }\n",
              "\n",
              "    [theme=dark] .colab-df-convert {\n",
              "      background-color: #3B4455;\n",
              "      fill: #D2E3FC;\n",
              "    }\n",
              "\n",
              "    [theme=dark] .colab-df-convert:hover {\n",
              "      background-color: #434B5C;\n",
              "      box-shadow: 0px 1px 3px 1px rgba(0, 0, 0, 0.15);\n",
              "      filter: drop-shadow(0px 1px 2px rgba(0, 0, 0, 0.3));\n",
              "      fill: #FFFFFF;\n",
              "    }\n",
              "  </style>\n",
              "\n",
              "      <script>\n",
              "        const buttonEl =\n",
              "          document.querySelector('#df-0d971df2-241b-490b-a283-c0c07afdf0bc button.colab-df-convert');\n",
              "        buttonEl.style.display =\n",
              "          google.colab.kernel.accessAllowed ? 'block' : 'none';\n",
              "\n",
              "        async function convertToInteractive(key) {\n",
              "          const element = document.querySelector('#df-0d971df2-241b-490b-a283-c0c07afdf0bc');\n",
              "          const dataTable =\n",
              "            await google.colab.kernel.invokeFunction('convertToInteractive',\n",
              "                                                     [key], {});\n",
              "          if (!dataTable) return;\n",
              "\n",
              "          const docLinkHtml = 'Like what you see? Visit the ' +\n",
              "            '<a target=\"_blank\" href=https://colab.research.google.com/notebooks/data_table.ipynb>data table notebook</a>'\n",
              "            + ' to learn more about interactive tables.';\n",
              "          element.innerHTML = '';\n",
              "          dataTable['output_type'] = 'display_data';\n",
              "          await google.colab.output.renderOutput(dataTable, element);\n",
              "          const docLink = document.createElement('div');\n",
              "          docLink.innerHTML = docLinkHtml;\n",
              "          element.appendChild(docLink);\n",
              "        }\n",
              "      </script>\n",
              "    </div>\n",
              "  </div>\n",
              "  "
            ]
          },
          "metadata": {},
          "execution_count": 9
        }
      ],
      "source": [
        "df.drop(['Data', 'Hora Início', 'Emissora', 'Programa'], axis=1)"
      ]
    },
    {
      "cell_type": "markdown",
      "source": [
        "## Rat%\n",
        "\n",
        "Com isso, podemos dividir os dados em treino e teste. Nesse caso, temos como 'y' todas as colunas de Rat%, exceto a Total Domicílios, dado que essa já é contemplada em nosos modelo principal."
      ],
      "metadata": {
        "id": "KWBTnAxutxPF"
      }
    },
    {
      "cell_type": "code",
      "execution_count": null,
      "metadata": {
        "id": "kuAd0_sIgZJ4"
      },
      "outputs": [],
      "source": [
        "from sklearn.model_selection import train_test_split\n",
        "\n",
        "model = df.copy() # Copia dataframe\n",
        "\n",
        "# Dividindo x e y\n",
        "y = model[['AB | Rat%', 'C1 | Rat%', 'C2 | Rat%',\n",
        "       'DE | Rat%', 'Masculino | Rat%', 'Feminino | Rat%', '4-11 anos | Rat%',\n",
        "       '12-17 anos | Rat%', '18-24 anos | Rat%', '25-34 anos | Rat%',\n",
        "       '35-49 anos | Rat%', '50-59 anos | Rat%', '60+ anos | Rat%']].values # Score de audiência\n",
        "x = model[['Dia da Semana',\n",
        "       'Mês', 'Dia', 'Hora', 'Minuto', 'Feriado',  'Categoria_AUDITORIO', 'Categoria_CARROS E MOTORES',\n",
        "       'Categoria_CULINARIO', 'Categoria_DEBATE', 'Categoria_DOCUMENTARIO',\n",
        "       'Categoria_EDUCATIVO', 'Categoria_ENTREVISTA', 'Categoria_ESPORTE',\n",
        "       'Categoria_FEMININO', 'Categoria_FILME', 'Categoria_FUTEBOL',\n",
        "       'Categoria_GAME SHOW', 'Categoria_HUMORISTICO', 'Categoria_JORNALISMO',\n",
        "       'Categoria_MINISSERIE', 'Categoria_MUSICAL', 'Categoria_NOVELA',\n",
        "       'Categoria_POLITICO', 'Categoria_PREMIACAO', 'Categoria_REALITY SHOW',\n",
        "       'Categoria_RELIGIOSO', 'Categoria_REPORTAGEM', 'Categoria_RURAL',\n",
        "       'Categoria_SERIES', 'Categoria_SHOW']].values # Features de data, hora e categoria\n",
        "\n",
        "# Dividindo dados para treino e dados para teste\n",
        "x_train, x_test, y_train, y_test = train_test_split(x, y, \n",
        "                                                    test_size = 0.3, \n",
        "                                                    random_state = 42)"
      ]
    },
    {
      "cell_type": "markdown",
      "source": [
        "Com isso, criamos o modelo de árvore decisória com profundidade entre 20 e 30, conforme selecionado em nosso modelo principal."
      ],
      "metadata": {
        "id": "O0OxjDHpu4IW"
      }
    },
    {
      "cell_type": "code",
      "execution_count": null,
      "metadata": {
        "colab": {
          "base_uri": "https://localhost:8080/"
        },
        "id": "bCjW6hIeiO0U",
        "outputId": "f7c661a3-c8cf-4aa6-fdb6-7fc38b60ef21"
      },
      "outputs": [
        {
          "output_type": "stream",
          "name": "stdout",
          "text": [
            "Erro médio: 0.6161550035799196\n",
            "Erro médio percentual: 12.54%\n",
            "R²: 0.9046298602404631\n",
            "R² ajustado: 0.9046298602404631\n"
          ]
        }
      ],
      "source": [
        "from sklearn.tree import DecisionTreeRegressor\n",
        "from sklearn.metrics import mean_squared_error, mean_absolute_error, r2_score\n",
        "\n",
        "dt = DecisionTreeRegressor(max_depth=24) \n",
        "dt.fit(x_train, y_train.squeeze()) # Cria decision tree com base em dados de treino\n",
        "y_pred = dt.predict(x_test) # Faz predições para dataset de test\n",
        "\n",
        "# Erro médio absoluto\n",
        "mean_absolute = mean_absolute_error(y_test, y_pred)\n",
        "print(\"Erro médio: \" + str(mean_absolute))\n",
        "\n",
        "# Erro médio absoluto em porcentagem (erro / média), arredondado para duas casas\n",
        "# decimais para facilitar a visualização\n",
        "percentual_error = str(round((mean_absolute/y_test.mean() * 100), 2))\n",
        "print(\"Erro médio percentual: \" + percentual_error + \"%\")\n",
        "\n",
        "# R²\n",
        "r2 = r2_score(y_test, y_pred)\n",
        "print(\"R²: \" + str(r2))\n",
        "\n",
        "# R² ajustado\n",
        "r2_adjusted = 1 - (1 - r2) * (len(y) - 1) / (len(y) - x.shape[1] - 1)\n",
        "print(\"R² ajustado: \" + str(r2))"
      ]
    },
    {
      "cell_type": "markdown",
      "source": [
        "Por fim, salvamos o modelo em txt utilizando a biblioteca 'pickle'. Assim, poderemos utilizá-lo para fazer predições futuramente sem retreiná-lo."
      ],
      "metadata": {
        "id": "DzgwdUDJu_M8"
      }
    },
    {
      "cell_type": "code",
      "source": [
        "import pickle\n",
        "pickle.dump(dt, open('/content/drive/MyDrive/Sprint 4/modelos/all_rat.txt', 'wb'))"
      ],
      "metadata": {
        "id": "TZPEardbX3xo"
      },
      "execution_count": null,
      "outputs": []
    },
    {
      "cell_type": "markdown",
      "source": [
        "## Shr%\n",
        "\n",
        "Seguimos o mesmo processo para a métrica de Shr%."
      ],
      "metadata": {
        "id": "A1a6zUMMvA0w"
      }
    },
    {
      "cell_type": "code",
      "execution_count": null,
      "metadata": {
        "id": "MbV9MfVhiu9I"
      },
      "outputs": [],
      "source": [
        "from sklearn.model_selection import train_test_split\n",
        "\n",
        "model = df.copy() # Copia dataframe\n",
        "\n",
        "# Dividindo x e y\n",
        "y = model[['Total Domicílios | Shr%', 'AB | Shr%', 'C1 | Shr%', 'C2 | Shr%',\n",
        "       'DE | Shr%', 'Masculino | Shr%', 'Feminino | Shr%', '4-11 anos | Shr%',\n",
        "       '12-17 anos | Shr%', '18-24 anos | Shr%', '25-34 anos | Shr%',\n",
        "       '35-49 anos | Shr%', '50-59 anos | Shr%', '60+ anos | Shr%']].values # Score de audiência\n",
        "x = model[['Dia da Semana',\n",
        "       'Mês', 'Dia', 'Hora', 'Minuto', 'Feriado',  'Categoria_AUDITORIO', 'Categoria_CARROS E MOTORES',\n",
        "       'Categoria_CULINARIO', 'Categoria_DEBATE', 'Categoria_DOCUMENTARIO',\n",
        "       'Categoria_EDUCATIVO', 'Categoria_ENTREVISTA', 'Categoria_ESPORTE',\n",
        "       'Categoria_FEMININO', 'Categoria_FILME', 'Categoria_FUTEBOL',\n",
        "       'Categoria_GAME SHOW', 'Categoria_HUMORISTICO', 'Categoria_JORNALISMO',\n",
        "       'Categoria_MINISSERIE', 'Categoria_MUSICAL', 'Categoria_NOVELA',\n",
        "       'Categoria_POLITICO', 'Categoria_PREMIACAO', 'Categoria_REALITY SHOW',\n",
        "       'Categoria_RELIGIOSO', 'Categoria_REPORTAGEM', 'Categoria_RURAL',\n",
        "       'Categoria_SERIES', 'Categoria_SHOW']].values # Features de data, hora e categoria\n",
        "\n",
        "# Dividindo dados para treino e dados para teste\n",
        "x_train, x_test, y_train, y_test = train_test_split(x, y, \n",
        "                                                    test_size = 0.3, \n",
        "                                                    random_state = 42)"
      ]
    },
    {
      "cell_type": "code",
      "execution_count": null,
      "metadata": {
        "colab": {
          "base_uri": "https://localhost:8080/"
        },
        "id": "kQLF-HTci3Zf",
        "outputId": "af154a04-c4bb-4e70-9cd1-f704f5833f1e"
      },
      "outputs": [
        {
          "output_type": "stream",
          "name": "stdout",
          "text": [
            "Erro médio: 3.3815761797925536\n",
            "Erro médio percentual: 11.42%\n",
            "R²: 0.8640319352292989\n",
            "R² ajustado: 0.8640319352292989\n"
          ]
        }
      ],
      "source": [
        "from sklearn.tree import DecisionTreeRegressor\n",
        "from sklearn.metrics import mean_squared_error, mean_absolute_error, r2_score\n",
        "\n",
        "dt = DecisionTreeRegressor(max_depth=28) \n",
        "dt.fit(x_train, y_train.squeeze()) # Cria decision tree com base em dados de treino\n",
        "y_pred = dt.predict(x_test) # Faz predições para dataset de test\n",
        "\n",
        "# Erro médio absoluto\n",
        "mean_absolute = mean_absolute_error(y_test, y_pred)\n",
        "print(\"Erro médio: \" + str(mean_absolute))\n",
        "\n",
        "# Erro médio absoluto em porcentagem (erro / média), arredondado para duas casas\n",
        "# decimais para facilitar a visualização\n",
        "percentual_error = str(round((mean_absolute/y_test.mean() * 100), 2))\n",
        "print(\"Erro médio percentual: \" + percentual_error + \"%\")\n",
        "\n",
        "# R²\n",
        "r2 = r2_score(y_test, y_pred)\n",
        "print(\"R²: \" + str(r2))\n",
        "\n",
        "# R² ajustado\n",
        "r2_adjusted = 1 - (1 - r2) * (len(y) - 1) / (len(y) - x.shape[1] - 1)\n",
        "print(\"R² ajustado: \" + str(r2))"
      ]
    },
    {
      "cell_type": "code",
      "source": [
        "import pickle\n",
        "pickle.dump(dt, open('/content/drive/MyDrive/Sprint 4/modelos/share.txt', 'wb'))"
      ],
      "metadata": {
        "id": "VtIlc0oNGqL5"
      },
      "execution_count": null,
      "outputs": []
    },
    {
      "cell_type": "markdown",
      "source": [
        "## Rch%\n",
        "\n",
        "O processo é repetido para as colunas de Rch."
      ],
      "metadata": {
        "id": "LNJGmlvJxPE0"
      }
    },
    {
      "cell_type": "code",
      "execution_count": null,
      "metadata": {
        "id": "izmRGsXNjNBb"
      },
      "outputs": [],
      "source": [
        "# Esta função acessa cada valor da coluna de audiência, transforma-o em string,\n",
        "# substitui vírgulas por pontos e volta o tipo para float\n",
        "df['Total Indivíduos | Rch%'] = df['Total Indivíduos | Rch%'].apply(lambda x: float(str(x).replace(',', '.')))"
      ]
    },
    {
      "cell_type": "code",
      "execution_count": null,
      "metadata": {
        "id": "F5nDpp6Ti5LG"
      },
      "outputs": [],
      "source": [
        "from sklearn.model_selection import train_test_split\n",
        "\n",
        "model = df.copy() # Copia dataframe\n",
        "\n",
        "# Dividindo x e y\n",
        "y = model[['Total Indivíduos | Rch%', 'AB | Rch%', 'C1 | Rch%', 'C2 | Rch%',\n",
        "       'DE | Rch%', 'Masculino | Rch%', 'Feminino | Rch%', '4-11 anos | Rch%',\n",
        "       '12-17 anos | Rch%', '18-24 anos | Rch%', '25-34 anos | Rch%',\n",
        "       '35-49 anos | Rch%', '50-59 anos | Rch%', '60+ anos | Rch%']].values # Score de audiência\n",
        "x = model[['Dia da Semana',\n",
        "       'Mês', 'Dia', 'Hora', 'Minuto', 'Feriado',  'Categoria_AUDITORIO', 'Categoria_CARROS E MOTORES',\n",
        "       'Categoria_CULINARIO', 'Categoria_DEBATE', 'Categoria_DOCUMENTARIO',\n",
        "       'Categoria_EDUCATIVO', 'Categoria_ENTREVISTA', 'Categoria_ESPORTE',\n",
        "       'Categoria_FEMININO', 'Categoria_FILME', 'Categoria_FUTEBOL',\n",
        "       'Categoria_GAME SHOW', 'Categoria_HUMORISTICO', 'Categoria_JORNALISMO',\n",
        "       'Categoria_MINISSERIE', 'Categoria_MUSICAL', 'Categoria_NOVELA',\n",
        "       'Categoria_POLITICO', 'Categoria_PREMIACAO', 'Categoria_REALITY SHOW',\n",
        "       'Categoria_RELIGIOSO', 'Categoria_REPORTAGEM', 'Categoria_RURAL',\n",
        "       'Categoria_SERIES', 'Categoria_SHOW']].values # Features de data, hora e categoria\n",
        "\n",
        "# Dividindo dados para treino e dados para teste\n",
        "x_train, x_test, y_train, y_test = train_test_split(x, y, \n",
        "                                                    test_size = 0.3, \n",
        "                                                    random_state = 42)"
      ]
    },
    {
      "cell_type": "code",
      "execution_count": null,
      "metadata": {
        "colab": {
          "base_uri": "https://localhost:8080/"
        },
        "id": "0E1ajyWCjHer",
        "outputId": "520e2bf6-62db-4f6e-b072-5bad5cfa9d6c"
      },
      "outputs": [
        {
          "output_type": "stream",
          "name": "stdout",
          "text": [
            "Erro médio: 0.602154251925767\n",
            "Erro médio percentual: 12.56%\n",
            "R²: 0.8965005312237694\n",
            "R² ajustado: 0.8965005312237694\n"
          ]
        }
      ],
      "source": [
        "from sklearn.tree import DecisionTreeRegressor\n",
        "from sklearn.metrics import mean_squared_error, mean_absolute_error, r2_score\n",
        "\n",
        "dt = DecisionTreeRegressor(max_depth=28) \n",
        "dt.fit(x_train, y_train.squeeze()) # Cria decision tree com base em dados de treino\n",
        "y_pred = dt.predict(x_test) # Faz predições para dataset de test\n",
        "\n",
        "# Erro médio absoluto\n",
        "mean_absolute = mean_absolute_error(y_test, y_pred)\n",
        "print(\"Erro médio: \" + str(mean_absolute))\n",
        "\n",
        "# Erro médio absoluto em porcentagem (erro / média), arredondado para duas casas\n",
        "# decimais para facilitar a visualização\n",
        "percentual_error = str(round((mean_absolute/y_test.mean() * 100), 2))\n",
        "print(\"Erro médio percentual: \" + percentual_error + \"%\")\n",
        "\n",
        "# R²\n",
        "r2 = r2_score(y_test, y_pred)\n",
        "print(\"R²: \" + str(r2))\n",
        "\n",
        "# R² ajustado\n",
        "r2_adjusted = 1 - (1 - r2) * (len(y) - 1) / (len(y) - x.shape[1] - 1)\n",
        "print(\"R² ajustado: \" + str(r2))"
      ]
    },
    {
      "cell_type": "code",
      "source": [
        "import pickle\n",
        "pickle.dump(dt, open('/content/drive/MyDrive/Sprint 4/modelos/rch.txt', 'wb'))"
      ],
      "metadata": {
        "id": "pxb7JSdV26jG"
      },
      "execution_count": null,
      "outputs": []
    }
  ],
  "metadata": {
    "colab": {
      "provenance": []
    },
    "kernelspec": {
      "display_name": "Python 3",
      "name": "python3"
    },
    "language_info": {
      "name": "python"
    }
  },
  "nbformat": 4,
  "nbformat_minor": 0
}